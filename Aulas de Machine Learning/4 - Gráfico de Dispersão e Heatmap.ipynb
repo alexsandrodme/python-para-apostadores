{
 "cells": [
  {
   "cell_type": "markdown",
   "metadata": {},
   "source": [
    "![alt text](https://trello-attachments.s3.amazonaws.com/56b4dc9a5618cc0446578ec6/5c6ffc4673fc7e8ac0a66708/c5f7d8d143f69ffd6683d6ad5b72c58f/Machine-Learning-e-Ciência-de-dados-nas-apostas-esportivas.png)"
   ]
  },
  {
   "cell_type": "markdown",
   "metadata": {},
   "source": [
    "## Importando bibliotecas"
   ]
  },
  {
   "cell_type": "code",
   "execution_count": 1,
   "metadata": {},
   "outputs": [],
   "source": [
    "import glob\n",
    "import pandas as pd\n",
    "import numpy as np\n",
    "import matplotlib\n",
    "import matplotlib.pyplot as plt\n",
    "import seaborn as sns\n",
    "import warnings\n",
    "\n",
    "warnings.filterwarnings('ignore')\n",
    "%matplotlib inline\n",
    "matplotlib.style.use('default')"
   ]
  },
  {
   "cell_type": "markdown",
   "metadata": {},
   "source": [
    "## Manipulando dados que serão utilizados"
   ]
  },
  {
   "cell_type": "code",
   "execution_count": 2,
   "metadata": {},
   "outputs": [],
   "source": [
    "elo_df = pd.read_csv('dataset_elo_spain_v4.csv', sep=';')"
   ]
  },
  {
   "cell_type": "code",
   "execution_count": 3,
   "metadata": {},
   "outputs": [
    {
     "data": {
      "text/html": [
       "<div>\n",
       "<style scoped>\n",
       "    .dataframe tbody tr th:only-of-type {\n",
       "        vertical-align: middle;\n",
       "    }\n",
       "\n",
       "    .dataframe tbody tr th {\n",
       "        vertical-align: top;\n",
       "    }\n",
       "\n",
       "    .dataframe thead th {\n",
       "        text-align: right;\n",
       "    }\n",
       "</style>\n",
       "<table border=\"1\" class=\"dataframe\">\n",
       "  <thead>\n",
       "    <tr style=\"text-align: right;\">\n",
       "      <th></th>\n",
       "      <th>HomeTeam</th>\n",
       "      <th>AwayTeam</th>\n",
       "      <th>FTR</th>\n",
       "      <th>B365H</th>\n",
       "      <th>B365D</th>\n",
       "      <th>B365A</th>\n",
       "      <th>league</th>\n",
       "      <th>Date</th>\n",
       "      <th>home_elo</th>\n",
       "      <th>away_elo</th>\n",
       "    </tr>\n",
       "  </thead>\n",
       "  <tbody>\n",
       "    <tr>\n",
       "      <td>0</td>\n",
       "      <td>Almeria</td>\n",
       "      <td>Espanol</td>\n",
       "      <td>A</td>\n",
       "      <td>2.80</td>\n",
       "      <td>3.30</td>\n",
       "      <td>2.50</td>\n",
       "      <td>Spain - La Liga Primera Division</td>\n",
       "      <td>2009-05-23</td>\n",
       "      <td>1710.323853</td>\n",
       "      <td>1706.179688</td>\n",
       "    </tr>\n",
       "    <tr>\n",
       "      <td>1</td>\n",
       "      <td>Betis</td>\n",
       "      <td>Sevilla</td>\n",
       "      <td>A</td>\n",
       "      <td>3.80</td>\n",
       "      <td>3.40</td>\n",
       "      <td>2.05</td>\n",
       "      <td>Spain - La Liga Primera Division</td>\n",
       "      <td>2017-02-25</td>\n",
       "      <td>1652.570068</td>\n",
       "      <td>1844.111328</td>\n",
       "    </tr>\n",
       "    <tr>\n",
       "      <td>2</td>\n",
       "      <td>Villarreal</td>\n",
       "      <td>Osasuna</td>\n",
       "      <td>A</td>\n",
       "      <td>1.57</td>\n",
       "      <td>3.75</td>\n",
       "      <td>6.00</td>\n",
       "      <td>Spain - La Liga Primera Division</td>\n",
       "      <td>2010-01-31</td>\n",
       "      <td>1757.755615</td>\n",
       "      <td>1703.363647</td>\n",
       "    </tr>\n",
       "    <tr>\n",
       "      <td>3</td>\n",
       "      <td>Granada</td>\n",
       "      <td>Sociedad</td>\n",
       "      <td>A</td>\n",
       "      <td>2.40</td>\n",
       "      <td>3.10</td>\n",
       "      <td>3.20</td>\n",
       "      <td>Spain - La Liga Primera Division</td>\n",
       "      <td>2015-09-22</td>\n",
       "      <td>1648.902710</td>\n",
       "      <td>1724.027222</td>\n",
       "    </tr>\n",
       "    <tr>\n",
       "      <td>4</td>\n",
       "      <td>Villarreal</td>\n",
       "      <td>Vallecano</td>\n",
       "      <td>H</td>\n",
       "      <td>1.60</td>\n",
       "      <td>4.20</td>\n",
       "      <td>5.50</td>\n",
       "      <td>Spain - La Liga Primera Division</td>\n",
       "      <td>2013-03-17</td>\n",
       "      <td>1662.804810</td>\n",
       "      <td>1700.998535</td>\n",
       "    </tr>\n",
       "    <tr>\n",
       "      <td>...</td>\n",
       "      <td>...</td>\n",
       "      <td>...</td>\n",
       "      <td>...</td>\n",
       "      <td>...</td>\n",
       "      <td>...</td>\n",
       "      <td>...</td>\n",
       "      <td>...</td>\n",
       "      <td>...</td>\n",
       "      <td>...</td>\n",
       "      <td>...</td>\n",
       "    </tr>\n",
       "    <tr>\n",
       "      <td>451</td>\n",
       "      <td>Villarreal</td>\n",
       "      <td>Elche</td>\n",
       "      <td>H</td>\n",
       "      <td>1.36</td>\n",
       "      <td>5.00</td>\n",
       "      <td>8.50</td>\n",
       "      <td>Spain - La Liga Primera Division</td>\n",
       "      <td>2015-05-10</td>\n",
       "      <td>1778.408081</td>\n",
       "      <td>1692.216431</td>\n",
       "    </tr>\n",
       "    <tr>\n",
       "      <td>452</td>\n",
       "      <td>Barcelona</td>\n",
       "      <td>Malaga</td>\n",
       "      <td>H</td>\n",
       "      <td>1.17</td>\n",
       "      <td>7.00</td>\n",
       "      <td>15.00</td>\n",
       "      <td>Spain - La Liga Primera Division</td>\n",
       "      <td>2010-02-27</td>\n",
       "      <td>1978.289673</td>\n",
       "      <td>1703.936646</td>\n",
       "    </tr>\n",
       "    <tr>\n",
       "      <td>453</td>\n",
       "      <td>Getafe</td>\n",
       "      <td>Levante</td>\n",
       "      <td>H</td>\n",
       "      <td>1.83</td>\n",
       "      <td>3.40</td>\n",
       "      <td>4.50</td>\n",
       "      <td>Spain - La Liga Primera Division</td>\n",
       "      <td>2013-11-29</td>\n",
       "      <td>1692.529053</td>\n",
       "      <td>1672.404663</td>\n",
       "    </tr>\n",
       "    <tr>\n",
       "      <td>454</td>\n",
       "      <td>Osasuna</td>\n",
       "      <td>Celta</td>\n",
       "      <td>D</td>\n",
       "      <td>2.90</td>\n",
       "      <td>3.10</td>\n",
       "      <td>2.60</td>\n",
       "      <td>Spain - La Liga Primera Division</td>\n",
       "      <td>2016-09-18</td>\n",
       "      <td>1616.232056</td>\n",
       "      <td>1745.238892</td>\n",
       "    </tr>\n",
       "    <tr>\n",
       "      <td>455</td>\n",
       "      <td>Getafe</td>\n",
       "      <td>Barcelona</td>\n",
       "      <td>D</td>\n",
       "      <td>13.00</td>\n",
       "      <td>6.50</td>\n",
       "      <td>1.22</td>\n",
       "      <td>Spain - La Liga Primera Division</td>\n",
       "      <td>2014-12-13</td>\n",
       "      <td>1678.367432</td>\n",
       "      <td>2020.454468</td>\n",
       "    </tr>\n",
       "  </tbody>\n",
       "</table>\n",
       "<p>456 rows × 10 columns</p>\n",
       "</div>"
      ],
      "text/plain": [
       "       HomeTeam   AwayTeam FTR  B365H  B365D  B365A  \\\n",
       "0       Almeria    Espanol   A   2.80   3.30   2.50   \n",
       "1         Betis    Sevilla   A   3.80   3.40   2.05   \n",
       "2    Villarreal    Osasuna   A   1.57   3.75   6.00   \n",
       "3       Granada   Sociedad   A   2.40   3.10   3.20   \n",
       "4    Villarreal  Vallecano   H   1.60   4.20   5.50   \n",
       "..          ...        ...  ..    ...    ...    ...   \n",
       "451  Villarreal      Elche   H   1.36   5.00   8.50   \n",
       "452   Barcelona     Malaga   H   1.17   7.00  15.00   \n",
       "453      Getafe    Levante   H   1.83   3.40   4.50   \n",
       "454     Osasuna      Celta   D   2.90   3.10   2.60   \n",
       "455      Getafe  Barcelona   D  13.00   6.50   1.22   \n",
       "\n",
       "                               league        Date     home_elo     away_elo  \n",
       "0    Spain - La Liga Primera Division  2009-05-23  1710.323853  1706.179688  \n",
       "1    Spain - La Liga Primera Division  2017-02-25  1652.570068  1844.111328  \n",
       "2    Spain - La Liga Primera Division  2010-01-31  1757.755615  1703.363647  \n",
       "3    Spain - La Liga Primera Division  2015-09-22  1648.902710  1724.027222  \n",
       "4    Spain - La Liga Primera Division  2013-03-17  1662.804810  1700.998535  \n",
       "..                                ...         ...          ...          ...  \n",
       "451  Spain - La Liga Primera Division  2015-05-10  1778.408081  1692.216431  \n",
       "452  Spain - La Liga Primera Division  2010-02-27  1978.289673  1703.936646  \n",
       "453  Spain - La Liga Primera Division  2013-11-29  1692.529053  1672.404663  \n",
       "454  Spain - La Liga Primera Division  2016-09-18  1616.232056  1745.238892  \n",
       "455  Spain - La Liga Primera Division  2014-12-13  1678.367432  2020.454468  \n",
       "\n",
       "[456 rows x 10 columns]"
      ]
     },
     "execution_count": 3,
     "metadata": {},
     "output_type": "execute_result"
    }
   ],
   "source": [
    "elo_df"
   ]
  },
  {
   "cell_type": "code",
   "execution_count": 4,
   "metadata": {},
   "outputs": [
    {
     "name": "stdout",
     "output_type": "stream",
     "text": [
      "<class 'pandas.core.frame.DataFrame'>\n",
      "RangeIndex: 456 entries, 0 to 455\n",
      "Data columns (total 10 columns):\n",
      "HomeTeam    456 non-null object\n",
      "AwayTeam    456 non-null object\n",
      "FTR         456 non-null object\n",
      "B365H       456 non-null float64\n",
      "B365D       456 non-null float64\n",
      "B365A       456 non-null float64\n",
      "league      456 non-null object\n",
      "Date        456 non-null object\n",
      "home_elo    456 non-null float64\n",
      "away_elo    456 non-null float64\n",
      "dtypes: float64(5), object(5)\n",
      "memory usage: 35.8+ KB\n"
     ]
    }
   ],
   "source": [
    "elo_df.info()"
   ]
  },
  {
   "cell_type": "code",
   "execution_count": 5,
   "metadata": {},
   "outputs": [],
   "source": [
    "elo_df_new = elo_df.copy()"
   ]
  },
  {
   "cell_type": "code",
   "execution_count": 6,
   "metadata": {},
   "outputs": [],
   "source": [
    "elo_df_new['HomeElo/AwayElo'] = elo_df_new['home_elo'] / elo_df_new['away_elo']"
   ]
  },
  {
   "cell_type": "code",
   "execution_count": 7,
   "metadata": {},
   "outputs": [
    {
     "data": {
      "text/html": [
       "<div>\n",
       "<style scoped>\n",
       "    .dataframe tbody tr th:only-of-type {\n",
       "        vertical-align: middle;\n",
       "    }\n",
       "\n",
       "    .dataframe tbody tr th {\n",
       "        vertical-align: top;\n",
       "    }\n",
       "\n",
       "    .dataframe thead th {\n",
       "        text-align: right;\n",
       "    }\n",
       "</style>\n",
       "<table border=\"1\" class=\"dataframe\">\n",
       "  <thead>\n",
       "    <tr style=\"text-align: right;\">\n",
       "      <th></th>\n",
       "      <th>HomeTeam</th>\n",
       "      <th>AwayTeam</th>\n",
       "      <th>FTR</th>\n",
       "      <th>B365H</th>\n",
       "      <th>B365D</th>\n",
       "      <th>B365A</th>\n",
       "      <th>league</th>\n",
       "      <th>Date</th>\n",
       "      <th>home_elo</th>\n",
       "      <th>away_elo</th>\n",
       "      <th>HomeElo/AwayElo</th>\n",
       "    </tr>\n",
       "  </thead>\n",
       "  <tbody>\n",
       "    <tr>\n",
       "      <td>0</td>\n",
       "      <td>Almeria</td>\n",
       "      <td>Espanol</td>\n",
       "      <td>A</td>\n",
       "      <td>2.80</td>\n",
       "      <td>3.30</td>\n",
       "      <td>2.50</td>\n",
       "      <td>Spain - La Liga Primera Division</td>\n",
       "      <td>2009-05-23</td>\n",
       "      <td>1710.323853</td>\n",
       "      <td>1706.179688</td>\n",
       "      <td>1.002429</td>\n",
       "    </tr>\n",
       "    <tr>\n",
       "      <td>1</td>\n",
       "      <td>Betis</td>\n",
       "      <td>Sevilla</td>\n",
       "      <td>A</td>\n",
       "      <td>3.80</td>\n",
       "      <td>3.40</td>\n",
       "      <td>2.05</td>\n",
       "      <td>Spain - La Liga Primera Division</td>\n",
       "      <td>2017-02-25</td>\n",
       "      <td>1652.570068</td>\n",
       "      <td>1844.111328</td>\n",
       "      <td>0.896134</td>\n",
       "    </tr>\n",
       "    <tr>\n",
       "      <td>2</td>\n",
       "      <td>Villarreal</td>\n",
       "      <td>Osasuna</td>\n",
       "      <td>A</td>\n",
       "      <td>1.57</td>\n",
       "      <td>3.75</td>\n",
       "      <td>6.00</td>\n",
       "      <td>Spain - La Liga Primera Division</td>\n",
       "      <td>2010-01-31</td>\n",
       "      <td>1757.755615</td>\n",
       "      <td>1703.363647</td>\n",
       "      <td>1.031932</td>\n",
       "    </tr>\n",
       "    <tr>\n",
       "      <td>3</td>\n",
       "      <td>Granada</td>\n",
       "      <td>Sociedad</td>\n",
       "      <td>A</td>\n",
       "      <td>2.40</td>\n",
       "      <td>3.10</td>\n",
       "      <td>3.20</td>\n",
       "      <td>Spain - La Liga Primera Division</td>\n",
       "      <td>2015-09-22</td>\n",
       "      <td>1648.902710</td>\n",
       "      <td>1724.027222</td>\n",
       "      <td>0.956425</td>\n",
       "    </tr>\n",
       "    <tr>\n",
       "      <td>4</td>\n",
       "      <td>Villarreal</td>\n",
       "      <td>Vallecano</td>\n",
       "      <td>H</td>\n",
       "      <td>1.60</td>\n",
       "      <td>4.20</td>\n",
       "      <td>5.50</td>\n",
       "      <td>Spain - La Liga Primera Division</td>\n",
       "      <td>2013-03-17</td>\n",
       "      <td>1662.804810</td>\n",
       "      <td>1700.998535</td>\n",
       "      <td>0.977546</td>\n",
       "    </tr>\n",
       "    <tr>\n",
       "      <td>...</td>\n",
       "      <td>...</td>\n",
       "      <td>...</td>\n",
       "      <td>...</td>\n",
       "      <td>...</td>\n",
       "      <td>...</td>\n",
       "      <td>...</td>\n",
       "      <td>...</td>\n",
       "      <td>...</td>\n",
       "      <td>...</td>\n",
       "      <td>...</td>\n",
       "      <td>...</td>\n",
       "    </tr>\n",
       "    <tr>\n",
       "      <td>451</td>\n",
       "      <td>Villarreal</td>\n",
       "      <td>Elche</td>\n",
       "      <td>H</td>\n",
       "      <td>1.36</td>\n",
       "      <td>5.00</td>\n",
       "      <td>8.50</td>\n",
       "      <td>Spain - La Liga Primera Division</td>\n",
       "      <td>2015-05-10</td>\n",
       "      <td>1778.408081</td>\n",
       "      <td>1692.216431</td>\n",
       "      <td>1.050934</td>\n",
       "    </tr>\n",
       "    <tr>\n",
       "      <td>452</td>\n",
       "      <td>Barcelona</td>\n",
       "      <td>Malaga</td>\n",
       "      <td>H</td>\n",
       "      <td>1.17</td>\n",
       "      <td>7.00</td>\n",
       "      <td>15.00</td>\n",
       "      <td>Spain - La Liga Primera Division</td>\n",
       "      <td>2010-02-27</td>\n",
       "      <td>1978.289673</td>\n",
       "      <td>1703.936646</td>\n",
       "      <td>1.161011</td>\n",
       "    </tr>\n",
       "    <tr>\n",
       "      <td>453</td>\n",
       "      <td>Getafe</td>\n",
       "      <td>Levante</td>\n",
       "      <td>H</td>\n",
       "      <td>1.83</td>\n",
       "      <td>3.40</td>\n",
       "      <td>4.50</td>\n",
       "      <td>Spain - La Liga Primera Division</td>\n",
       "      <td>2013-11-29</td>\n",
       "      <td>1692.529053</td>\n",
       "      <td>1672.404663</td>\n",
       "      <td>1.012033</td>\n",
       "    </tr>\n",
       "    <tr>\n",
       "      <td>454</td>\n",
       "      <td>Osasuna</td>\n",
       "      <td>Celta</td>\n",
       "      <td>D</td>\n",
       "      <td>2.90</td>\n",
       "      <td>3.10</td>\n",
       "      <td>2.60</td>\n",
       "      <td>Spain - La Liga Primera Division</td>\n",
       "      <td>2016-09-18</td>\n",
       "      <td>1616.232056</td>\n",
       "      <td>1745.238892</td>\n",
       "      <td>0.926081</td>\n",
       "    </tr>\n",
       "    <tr>\n",
       "      <td>455</td>\n",
       "      <td>Getafe</td>\n",
       "      <td>Barcelona</td>\n",
       "      <td>D</td>\n",
       "      <td>13.00</td>\n",
       "      <td>6.50</td>\n",
       "      <td>1.22</td>\n",
       "      <td>Spain - La Liga Primera Division</td>\n",
       "      <td>2014-12-13</td>\n",
       "      <td>1678.367432</td>\n",
       "      <td>2020.454468</td>\n",
       "      <td>0.830688</td>\n",
       "    </tr>\n",
       "  </tbody>\n",
       "</table>\n",
       "<p>456 rows × 11 columns</p>\n",
       "</div>"
      ],
      "text/plain": [
       "       HomeTeam   AwayTeam FTR  B365H  B365D  B365A  \\\n",
       "0       Almeria    Espanol   A   2.80   3.30   2.50   \n",
       "1         Betis    Sevilla   A   3.80   3.40   2.05   \n",
       "2    Villarreal    Osasuna   A   1.57   3.75   6.00   \n",
       "3       Granada   Sociedad   A   2.40   3.10   3.20   \n",
       "4    Villarreal  Vallecano   H   1.60   4.20   5.50   \n",
       "..          ...        ...  ..    ...    ...    ...   \n",
       "451  Villarreal      Elche   H   1.36   5.00   8.50   \n",
       "452   Barcelona     Malaga   H   1.17   7.00  15.00   \n",
       "453      Getafe    Levante   H   1.83   3.40   4.50   \n",
       "454     Osasuna      Celta   D   2.90   3.10   2.60   \n",
       "455      Getafe  Barcelona   D  13.00   6.50   1.22   \n",
       "\n",
       "                               league        Date     home_elo     away_elo  \\\n",
       "0    Spain - La Liga Primera Division  2009-05-23  1710.323853  1706.179688   \n",
       "1    Spain - La Liga Primera Division  2017-02-25  1652.570068  1844.111328   \n",
       "2    Spain - La Liga Primera Division  2010-01-31  1757.755615  1703.363647   \n",
       "3    Spain - La Liga Primera Division  2015-09-22  1648.902710  1724.027222   \n",
       "4    Spain - La Liga Primera Division  2013-03-17  1662.804810  1700.998535   \n",
       "..                                ...         ...          ...          ...   \n",
       "451  Spain - La Liga Primera Division  2015-05-10  1778.408081  1692.216431   \n",
       "452  Spain - La Liga Primera Division  2010-02-27  1978.289673  1703.936646   \n",
       "453  Spain - La Liga Primera Division  2013-11-29  1692.529053  1672.404663   \n",
       "454  Spain - La Liga Primera Division  2016-09-18  1616.232056  1745.238892   \n",
       "455  Spain - La Liga Primera Division  2014-12-13  1678.367432  2020.454468   \n",
       "\n",
       "     HomeElo/AwayElo  \n",
       "0           1.002429  \n",
       "1           0.896134  \n",
       "2           1.031932  \n",
       "3           0.956425  \n",
       "4           0.977546  \n",
       "..               ...  \n",
       "451         1.050934  \n",
       "452         1.161011  \n",
       "453         1.012033  \n",
       "454         0.926081  \n",
       "455         0.830688  \n",
       "\n",
       "[456 rows x 11 columns]"
      ]
     },
     "execution_count": 7,
     "metadata": {},
     "output_type": "execute_result"
    }
   ],
   "source": [
    "elo_df_new"
   ]
  },
  {
   "cell_type": "markdown",
   "metadata": {},
   "source": [
    "## Gráfico de dispersão"
   ]
  },
  {
   "cell_type": "code",
   "execution_count": 21,
   "metadata": {},
   "outputs": [
    {
     "data": {
      "image/png": "[encoded data removed]",
      "text/plain": [
       "<Figure size 576x432 with 1 Axes>"
      ]
     },
     "metadata": {
      "needs_background": "light"
     },
     "output_type": "display_data"
    }
   ],
   "source": [
    "plt.rcParams['figure.figsize'] = [8, 6]\n",
    "ax = sns.scatterplot(y='B365H', x='HomeElo/AwayElo', data=elo_df_new)\n",
    "ax.set(ylabel='Odd do Mandante', xlabel='Elo Mandante / Elo Visitante', title='Odd do Mandante x Elo Mandante / Elo Visitante')\n",
    "plt.tight_layout()\n",
    "plt.savefig('odd_elo_score3_v2.png')\n",
    "plt.show()"
   ]
  },
  {
   "cell_type": "code",
   "execution_count": 22,
   "metadata": {},
   "outputs": [
    {
     "data": {
      "image/png": "[encoded data removed]",
      "text/plain": [
       "<Figure size 576x432 with 1 Axes>"
      ]
     },
     "metadata": {
      "needs_background": "light"
     },
     "output_type": "display_data"
    }
   ],
   "source": [
    "plt.rcParams['figure.figsize'] = [8, 6]\n",
    "ax = sns.scatterplot(y='B365A', x='HomeElo/AwayElo', data=elo_df_new)\n",
    "ax.set(ylabel='Odd do Visitante', xlabel='Elo Mandante / Elo Visitante', title='Odd do Visitante x Elo Mandante / Elo Visitante')\n",
    "plt.tight_layout()\n",
    "plt.savefig('odd_elo_score4_v2.png')\n",
    "plt.show()"
   ]
  },
  {
   "cell_type": "code",
   "execution_count": 23,
   "metadata": {},
   "outputs": [
    {
     "data": {
      "image/png": "[encoded data removed]",
      "text/plain": [
       "<Figure size 576x432 with 1 Axes>"
      ]
     },
     "metadata": {
      "needs_background": "light"
     },
     "output_type": "display_data"
    }
   ],
   "source": [
    "plt.rcParams['figure.figsize'] = [8, 6]\n",
    "ax = sns.scatterplot(y='B365D', x='HomeElo/AwayElo', data=elo_df_new)\n",
    "ax.set(ylabel='Odd do Empate', xlabel='Elo Mandante / Elo Visitante', title='Odd do Empate x Elo Mandante / Elo Visitante')\n",
    "plt.tight_layout()\n",
    "plt.savefig('odd_elo_score5_v2.png')\n",
    "plt.show()"
   ]
  },
  {
   "cell_type": "markdown",
   "metadata": {},
   "source": [
    "## Heatmap"
   ]
  },
  {
   "cell_type": "code",
   "execution_count": 11,
   "metadata": {},
   "outputs": [
    {
     "data": {
      "text/html": [
       "<div>\n",
       "<style scoped>\n",
       "    .dataframe tbody tr th:only-of-type {\n",
       "        vertical-align: middle;\n",
       "    }\n",
       "\n",
       "    .dataframe tbody tr th {\n",
       "        vertical-align: top;\n",
       "    }\n",
       "\n",
       "    .dataframe thead th {\n",
       "        text-align: right;\n",
       "    }\n",
       "</style>\n",
       "<table border=\"1\" class=\"dataframe\">\n",
       "  <thead>\n",
       "    <tr style=\"text-align: right;\">\n",
       "      <th></th>\n",
       "      <th>B365H</th>\n",
       "      <th>B365A</th>\n",
       "      <th>B365D</th>\n",
       "      <th>away_elo</th>\n",
       "      <th>home_elo</th>\n",
       "    </tr>\n",
       "  </thead>\n",
       "  <tbody>\n",
       "    <tr>\n",
       "      <td>B365H</td>\n",
       "      <td>1.000000</td>\n",
       "      <td>-0.375511</td>\n",
       "      <td>0.073471</td>\n",
       "      <td>0.753512</td>\n",
       "      <td>-0.325041</td>\n",
       "    </tr>\n",
       "    <tr>\n",
       "      <td>B365A</td>\n",
       "      <td>-0.375511</td>\n",
       "      <td>1.000000</td>\n",
       "      <td>0.851644</td>\n",
       "      <td>-0.341775</td>\n",
       "      <td>0.700327</td>\n",
       "    </tr>\n",
       "    <tr>\n",
       "      <td>B365D</td>\n",
       "      <td>0.073471</td>\n",
       "      <td>0.851644</td>\n",
       "      <td>1.000000</td>\n",
       "      <td>0.030475</td>\n",
       "      <td>0.629653</td>\n",
       "    </tr>\n",
       "    <tr>\n",
       "      <td>away_elo</td>\n",
       "      <td>0.753512</td>\n",
       "      <td>-0.341775</td>\n",
       "      <td>0.030475</td>\n",
       "      <td>1.000000</td>\n",
       "      <td>-0.049372</td>\n",
       "    </tr>\n",
       "    <tr>\n",
       "      <td>home_elo</td>\n",
       "      <td>-0.325041</td>\n",
       "      <td>0.700327</td>\n",
       "      <td>0.629653</td>\n",
       "      <td>-0.049372</td>\n",
       "      <td>1.000000</td>\n",
       "    </tr>\n",
       "  </tbody>\n",
       "</table>\n",
       "</div>"
      ],
      "text/plain": [
       "             B365H     B365A     B365D  away_elo  home_elo\n",
       "B365H     1.000000 -0.375511  0.073471  0.753512 -0.325041\n",
       "B365A    -0.375511  1.000000  0.851644 -0.341775  0.700327\n",
       "B365D     0.073471  0.851644  1.000000  0.030475  0.629653\n",
       "away_elo  0.753512 -0.341775  0.030475  1.000000 -0.049372\n",
       "home_elo -0.325041  0.700327  0.629653 -0.049372  1.000000"
      ]
     },
     "execution_count": 11,
     "metadata": {},
     "output_type": "execute_result"
    }
   ],
   "source": [
    "elo_df_new[['B365H', 'B365A', 'B365D', 'away_elo', 'home_elo']].corr()"
   ]
  },
  {
   "cell_type": "code",
   "execution_count": 12,
   "metadata": {},
   "outputs": [
    {
     "data": {
      "text/plain": [
       "'Versão do matplotlib: 3.1.1'"
      ]
     },
     "metadata": {},
     "output_type": "display_data"
    },
    {
     "data": {
      "image/png": "[encoded data removed]",
      "text/plain": [
       "<Figure size 576x576 with 2 Axes>"
      ]
     },
     "metadata": {
      "needs_background": "light"
     },
     "output_type": "display_data"
    }
   ],
   "source": [
    "# https://stackoverflow.com/questions/56942670/matplotlib-seaborn-first-and-last-row-cut-in-half-of-heatmap-plot\n",
    "display(f'Versão do matplotlib: {matplotlib.__version__}')\n",
    "plt.figure(figsize=(8,8))\n",
    "sns.heatmap(elo_df_new[['B365H', 'B365A', 'B365D', 'away_elo', 'home_elo']].corr(),vmin=-1, vmax=1, annot=True);"
   ]
  },
  {
   "cell_type": "code",
   "execution_count": 27,
   "metadata": {},
   "outputs": [
    {
     "data": {
      "image/png": "[encoded data removed]",
      "text/plain": [
       "<Figure size 576x576 with 2 Axes>"
      ]
     },
     "metadata": {
      "needs_background": "light"
     },
     "output_type": "display_data"
    }
   ],
   "source": [
    "# https://matplotlib.org/examples/color/colormaps_reference.html\n",
    "# cmap = 'coolwarm'\n",
    "# cmap = 'YlGnBu'\n",
    "# cmap = 'Reds'\n",
    "# cmap = 'Greys'\n",
    "cmap = 'seismic'\n",
    "\n",
    "# https://stackoverflow.com/questions/56942670/matplotlib-seaborn-first-and-last-row-cut-in-half-of-heatmap-plot\n",
    "\n",
    "plt.figure(figsize=(8,8))\n",
    "ax = sns.heatmap(elo_df_new[['B365H', 'B365A', 'B365D', 'away_elo', 'home_elo']].corr(),vmin=-1, vmax=1,\n",
    "            cmap=cmap, annot=True);\n",
    "bottom, top = ax.get_ylim()\n",
    "ax.set_ylim(bottom + 0.5, top - 0.5);"
   ]
  },
  {
   "cell_type": "code",
   "execution_count": 14,
   "metadata": {},
   "outputs": [
    {
     "data": {
      "text/plain": [
       "array([[False, False, False, False, False],\n",
       "       [False, False, False, False, False],\n",
       "       [False, False, False, False, False],\n",
       "       [False, False, False, False, False],\n",
       "       [False, False, False, False, False]])"
      ]
     },
     "execution_count": 14,
     "metadata": {},
     "output_type": "execute_result"
    }
   ],
   "source": [
    "m = np.zeros_like(elo_df_new[['B365H', 'B365A', 'B365D', 'away_elo', 'home_elo']].corr(), dtype=np.bool)\n",
    "m"
   ]
  },
  {
   "cell_type": "code",
   "execution_count": 15,
   "metadata": {},
   "outputs": [
    {
     "data": {
      "text/plain": [
       "(array([0, 0, 0, 0, 0, 1, 1, 1, 1, 2, 2, 2, 3, 3, 4]),\n",
       " array([0, 1, 2, 3, 4, 1, 2, 3, 4, 2, 3, 4, 3, 4, 4]))"
      ]
     },
     "execution_count": 15,
     "metadata": {},
     "output_type": "execute_result"
    }
   ],
   "source": [
    "np.triu_indices_from(m)"
   ]
  },
  {
   "cell_type": "code",
   "execution_count": 16,
   "metadata": {},
   "outputs": [],
   "source": [
    "m[np.triu_indices_from(m)] = True"
   ]
  },
  {
   "cell_type": "code",
   "execution_count": 17,
   "metadata": {},
   "outputs": [
    {
     "data": {
      "text/plain": [
       "array([[ True,  True,  True,  True,  True],\n",
       "       [False,  True,  True,  True,  True],\n",
       "       [False, False,  True,  True,  True],\n",
       "       [False, False, False,  True,  True],\n",
       "       [False, False, False, False,  True]])"
      ]
     },
     "execution_count": 17,
     "metadata": {},
     "output_type": "execute_result"
    }
   ],
   "source": [
    "m"
   ]
  },
  {
   "cell_type": "code",
   "execution_count": 18,
   "metadata": {},
   "outputs": [
    {
     "data": {
      "image/png": "[encoded data removed]",
      "text/plain": [
       "<Figure size 576x576 with 2 Axes>"
      ]
     },
     "metadata": {
      "needs_background": "light"
     },
     "output_type": "display_data"
    }
   ],
   "source": [
    "# https://medium.com/@chrisshaw982/seaborn-correlation-heatmaps-customized-10246f4f7f4b\n",
    "\n",
    "mask = np.zeros_like(elo_df_new[['B365H', 'B365A', 'B365D', 'away_elo', 'home_elo']].corr(), dtype=np.bool)\n",
    "mask[np.triu_indices_from(mask)] = True\n",
    "\n",
    "plt.figure(figsize=(8,8))\n",
    "ax = sns.heatmap(elo_df_new[['B365H', 'B365A', 'B365D', 'away_elo', 'home_elo']].corr(),vmin=-1, vmax=1,\n",
    "            cmap=cmap, annot=True, mask=mask);\n",
    "bottom, top = ax.get_ylim()\n",
    "ax.set_ylim(bottom + 0.5, top - 0.5);"
   ]
  },
  {
   "cell_type": "code",
   "execution_count": null,
   "metadata": {},
   "outputs": [],
   "source": []
  }
 ],
 "metadata": {
  "file_extension": ".py",
  "kernelspec": {
   "display_name": "Python 3",
   "language": "python",
   "name": "python3"
  },
  "language_info": {
   "codemirror_mode": {
    "name": "ipython",
    "version": 3
   },
   "file_extension": ".py",
   "mimetype": "text/x-python",
   "name": "python",
   "nbconvert_exporter": "python",
   "pygments_lexer": "ipython3",
   "version": "3.7.4"
  },
  "mimetype": "text/x-python",
  "name": "python",
  "npconvert_exporter": "python",
  "pygments_lexer": "ipython3",
  "version": 3
 },
 "nbformat": 4,
 "nbformat_minor": 4
}
